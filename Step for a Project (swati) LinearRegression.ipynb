{
 "cells": [
  {
   "cell_type": "markdown",
   "id": "c65d90cc",
   "metadata": {},
   "source": [
    "## Data Science project"
   ]
  },
  {
   "cell_type": "markdown",
   "id": "258be8a2",
   "metadata": {},
   "source": [
    "The normal procedure to follow is \n",
    "\n",
    "- `Step 1`  we have to collect the data. \n",
    "\n",
    "Then, to start working on the project in Python \n",
    "\n",
    "\n",
    "- `Step 2` we import the neccessary libraries \n",
    "\n",
    "\n",
    "- `Step 3` Then we load our data from storage device to python environment \n",
    "\n",
    "\n",
    "- `Step 4` *EDA - Exploratory Data Analysis* where we **clean the data**, **remove nulls**, **remove duplicates**, **Outliers** ( All **descriptive stats**)\n",
    "\n",
    "  - Visualize the data - matplotlib and seaborn \n",
    "\n",
    "\n",
    "- `Step 5` *Feature Engineering* - (if necessary - mainly for categorical data **recheck this if needed edit the information**) \n",
    "\n",
    "     - - Label encoding\n",
    "     - - One hot encoding\n",
    "     \n",
    "     - Or **Transformation** of the data if required\n",
    "\n",
    "\n",
    "\n",
    "- `Step 6` *Feature selection* - x(independent features), y(target/dependent) -> train, test - x_train, y_train, x_test, y_test  **Multicollinearity** **VIF** we are using in this\n",
    "\n",
    "  - VIF\n",
    "  - Correlation\n",
    "  - PCA etc\n",
    "\n",
    "\n",
    "- `Step 7` Model creations\n",
    "\n",
    "\n",
    "- `Step 8` Model evolution (verify model accuracy)\n",
    "\n",
    "\n",
    "- `Step 9` Tuning the model\n",
    "\n",
    "\n",
    "- `Step 8` Save the data\n",
    "\n",
    "\n",
    "NOTE - Depending on the client's requirement (problem statement) we see if **Accuracy** is more important or **Time complexcity** (TC)  eg for TC is face recognition, for Accuracy [we wait for money transactions The page we get to wait for 30 secs and we do]"
   ]
  },
  {
   "cell_type": "markdown",
   "id": "c4c8bcd4",
   "metadata": {},
   "source": [
    "##### In **real world** your team or you are given the dataset which you have to understand in a few days or a week (This step is important)"
   ]
  },
  {
   "cell_type": "markdown",
   "id": "041b1db7",
   "metadata": {},
   "source": [
    "### Lets start with a basic linear regression project for now. "
   ]
  },
  {
   "cell_type": "markdown",
   "id": "6c8b72b7",
   "metadata": {},
   "source": [
    "`*Regression*` - It is a Supervised learning approach used to predict continuous numerical values based on the \n",
    "independent input variables using regression algorithms. (mainly plots a best-fit line or a curve between the data)"
   ]
  },
  {
   "cell_type": "markdown",
   "id": "65d84d06",
   "metadata": {},
   "source": [
    "*First Alogrithm* - **LINEAR REGRESSION** \n",
    "\n",
    "- Defination -->\n",
    "\n",
    "- When to use -->\n",
    "\n",
    "- How to check for the accuracy -->"
   ]
  },
  {
   "cell_type": "markdown",
   "id": "729eb0e5",
   "metadata": {},
   "source": [
    "- - **Strengths/Advantages of Linear Regression**\n",
    "\n",
    "- - - *Predictable and easy to interpret* - Regressions are easy to interpret because they describe simple mathematical equations, which we can often graph.\n",
    "        Other complex models use black box calculation (i.e we cannot know how they may behave with certain inputs or how calculations are working)\n",
    "    \n",
    "- - - *Easy to extrapolate* - \n",
    "\n",
    "- - - *Optimal fitting is usually guaranteed* - Mainly ML models use gradient descent(gd), tuning gd doesnot provide any guarantee for optimal solution.\n",
    "       whereas Regression models uses sum of squares as a cost function doesn't actually need an iterative gradient-descent procedure. Instead to calculate the optimal location for the line we use maths here.\n",
    "    As long as the sample size isn't too large linear regression doesn't need special attention to be paid to the fitting process, and the optimal solution is guaranteed."
   ]
  },
  {
   "cell_type": "markdown",
   "id": "b8d9a253",
   "metadata": {},
   "source": [
    "**Assumptions of Linear Regression**\n",
    "\n",
    "\n",
    "i) The term “linear” in linear regression refers to the fact that the method models data with *linear combination* of the explanatory/predictor/independent variables (attributes). Linear regression models assume that the relationship between a dependent continuous variable Y and one or more explanatory (independent) variables X is linear (that is, a straight line).\n",
    "\n",
    "ii) The model expects features to be independent. When model assumptions aren't true, the model can make misleading predictions."
   ]
  },
  {
   "cell_type": "markdown",
   "id": "2e03f5ee",
   "metadata": {},
   "source": [
    "**Scaling**\n",
    "\n",
    "Scaling doesn’t impact your model for Simple Linear Regression. \n",
    "However, it may impact the feature selection as the co efficients value will be different based on the units the feature\n",
    "is using but the feature selection will only happen based on number ( the units are not considered). Hence scaling must be performed."
   ]
  },
  {
   "cell_type": "code",
   "execution_count": 4,
   "id": "31423323",
   "metadata": {},
   "outputs": [],
   "source": [
    "import numpy as np # numpy is used for mathematical operation Numpy performs function in parallel and are in memory operations so they are fast for huge data\n",
    "import pandas as pd # for manipulating the data \n",
    "import matplotlib.pyplot as plt # for visualization of the data.\n",
    "import os"
   ]
  },
  {
   "cell_type": "code",
   "execution_count": 5,
   "id": "41f03628",
   "metadata": {},
   "outputs": [
    {
     "data": {
      "text/plain": [
       "'C:\\\\Users\\\\SWATI'"
      ]
     },
     "execution_count": 5,
     "metadata": {},
     "output_type": "execute_result"
    }
   ],
   "source": [
    "# you can check and change the directory if you are working in a different path\n",
    "\n",
    "os.getcwd()"
   ]
  },
  {
   "cell_type": "code",
   "execution_count": 8,
   "id": "07496bea",
   "metadata": {},
   "outputs": [],
   "source": [
    "os.chdir('C:\\\\Users\\SWATI\\Downloads\\machine learning')"
   ]
  },
  {
   "cell_type": "code",
   "execution_count": 9,
   "id": "86628c2e",
   "metadata": {},
   "outputs": [
    {
     "data": {
      "text/plain": [
       "['.ipynb_checkpoints',\n",
       " '20-08_Linear Regression Handson (1).ipynb',\n",
       " '26-08_Logistic Regression Handson (1).ipynb',\n",
       " 'bank-additional-full-1 (2).csv',\n",
       " 'Decision_Tree_case_study=Harsh.ipynb',\n",
       " 'Decision_Tree_case_study_(5)_(1)_(1).ipynb',\n",
       " 'heart-1.csv',\n",
       " 'new_insurance_data.csv']"
      ]
     },
     "execution_count": 9,
     "metadata": {},
     "output_type": "execute_result"
    }
   ],
   "source": [
    "#checking the path for the available files their\n",
    "os.listdir()"
   ]
  },
  {
   "cell_type": "code",
   "execution_count": 10,
   "id": "91f21de1",
   "metadata": {},
   "outputs": [],
   "source": [
    "# load the structured data or tabular data or csv \n",
    "\n",
    "Insurance_df = pd.read_csv(\"new_insurance_data.csv\")"
   ]
  },
  {
   "cell_type": "code",
   "execution_count": 11,
   "id": "3f56d8fe",
   "metadata": {},
   "outputs": [
    {
     "data": {
      "text/html": [
       "<div>\n",
       "<style scoped>\n",
       "    .dataframe tbody tr th:only-of-type {\n",
       "        vertical-align: middle;\n",
       "    }\n",
       "\n",
       "    .dataframe tbody tr th {\n",
       "        vertical-align: top;\n",
       "    }\n",
       "\n",
       "    .dataframe thead th {\n",
       "        text-align: right;\n",
       "    }\n",
       "</style>\n",
       "<table border=\"1\" class=\"dataframe\">\n",
       "  <thead>\n",
       "    <tr style=\"text-align: right;\">\n",
       "      <th></th>\n",
       "      <th>age</th>\n",
       "      <th>sex</th>\n",
       "      <th>bmi</th>\n",
       "      <th>children</th>\n",
       "      <th>smoker</th>\n",
       "      <th>Claim_Amount</th>\n",
       "      <th>past_consultations</th>\n",
       "      <th>num_of_steps</th>\n",
       "      <th>Hospital_expenditure</th>\n",
       "      <th>NUmber_of_past_hospitalizations</th>\n",
       "      <th>Anual_Salary</th>\n",
       "      <th>region</th>\n",
       "      <th>charges</th>\n",
       "    </tr>\n",
       "  </thead>\n",
       "  <tbody>\n",
       "    <tr>\n",
       "      <th>0</th>\n",
       "      <td>18.0</td>\n",
       "      <td>male</td>\n",
       "      <td>23.21</td>\n",
       "      <td>0.0</td>\n",
       "      <td>no</td>\n",
       "      <td>29087.54313</td>\n",
       "      <td>17.0</td>\n",
       "      <td>715428.0</td>\n",
       "      <td>4720920.992</td>\n",
       "      <td>0.0</td>\n",
       "      <td>55784970.05</td>\n",
       "      <td>southeast</td>\n",
       "      <td>1121.8739</td>\n",
       "    </tr>\n",
       "    <tr>\n",
       "      <th>1</th>\n",
       "      <td>18.0</td>\n",
       "      <td>male</td>\n",
       "      <td>30.14</td>\n",
       "      <td>0.0</td>\n",
       "      <td>no</td>\n",
       "      <td>39053.67437</td>\n",
       "      <td>7.0</td>\n",
       "      <td>699157.0</td>\n",
       "      <td>4329831.676</td>\n",
       "      <td>0.0</td>\n",
       "      <td>13700885.19</td>\n",
       "      <td>southeast</td>\n",
       "      <td>1131.5066</td>\n",
       "    </tr>\n",
       "    <tr>\n",
       "      <th>2</th>\n",
       "      <td>18.0</td>\n",
       "      <td>male</td>\n",
       "      <td>33.33</td>\n",
       "      <td>0.0</td>\n",
       "      <td>no</td>\n",
       "      <td>39023.62759</td>\n",
       "      <td>19.0</td>\n",
       "      <td>702341.0</td>\n",
       "      <td>6884860.774</td>\n",
       "      <td>0.0</td>\n",
       "      <td>73523107.27</td>\n",
       "      <td>southeast</td>\n",
       "      <td>1135.9407</td>\n",
       "    </tr>\n",
       "    <tr>\n",
       "      <th>3</th>\n",
       "      <td>18.0</td>\n",
       "      <td>male</td>\n",
       "      <td>33.66</td>\n",
       "      <td>0.0</td>\n",
       "      <td>no</td>\n",
       "      <td>28185.39332</td>\n",
       "      <td>11.0</td>\n",
       "      <td>700250.0</td>\n",
       "      <td>4274773.550</td>\n",
       "      <td>0.0</td>\n",
       "      <td>75819679.60</td>\n",
       "      <td>southeast</td>\n",
       "      <td>1136.3994</td>\n",
       "    </tr>\n",
       "    <tr>\n",
       "      <th>4</th>\n",
       "      <td>18.0</td>\n",
       "      <td>male</td>\n",
       "      <td>34.10</td>\n",
       "      <td>0.0</td>\n",
       "      <td>no</td>\n",
       "      <td>14697.85941</td>\n",
       "      <td>16.0</td>\n",
       "      <td>711584.0</td>\n",
       "      <td>3787293.921</td>\n",
       "      <td>0.0</td>\n",
       "      <td>23012320.01</td>\n",
       "      <td>southeast</td>\n",
       "      <td>1137.0110</td>\n",
       "    </tr>\n",
       "  </tbody>\n",
       "</table>\n",
       "</div>"
      ],
      "text/plain": [
       "    age   sex    bmi  children smoker  Claim_Amount  past_consultations  \\\n",
       "0  18.0  male  23.21       0.0     no   29087.54313                17.0   \n",
       "1  18.0  male  30.14       0.0     no   39053.67437                 7.0   \n",
       "2  18.0  male  33.33       0.0     no   39023.62759                19.0   \n",
       "3  18.0  male  33.66       0.0     no   28185.39332                11.0   \n",
       "4  18.0  male  34.10       0.0     no   14697.85941                16.0   \n",
       "\n",
       "   num_of_steps  Hospital_expenditure  NUmber_of_past_hospitalizations  \\\n",
       "0      715428.0           4720920.992                              0.0   \n",
       "1      699157.0           4329831.676                              0.0   \n",
       "2      702341.0           6884860.774                              0.0   \n",
       "3      700250.0           4274773.550                              0.0   \n",
       "4      711584.0           3787293.921                              0.0   \n",
       "\n",
       "   Anual_Salary     region    charges  \n",
       "0   55784970.05  southeast  1121.8739  \n",
       "1   13700885.19  southeast  1131.5066  \n",
       "2   73523107.27  southeast  1135.9407  \n",
       "3   75819679.60  southeast  1136.3994  \n",
       "4   23012320.01  southeast  1137.0110  "
      ]
     },
     "execution_count": 11,
     "metadata": {},
     "output_type": "execute_result"
    }
   ],
   "source": [
    "Insurance_df.head()"
   ]
  },
  {
   "cell_type": "markdown",
   "id": "3668e1e6",
   "metadata": {},
   "source": [
    "##### if you want you can make a note of what every feature/column mean here. (to better understand your dataset)"
   ]
  },
  {
   "cell_type": "code",
   "execution_count": 13,
   "id": "bd9e70a3",
   "metadata": {},
   "outputs": [
    {
     "data": {
      "text/plain": [
       "(1338, 13)"
      ]
     },
     "execution_count": 13,
     "metadata": {},
     "output_type": "execute_result"
    }
   ],
   "source": [
    "Insurance_df.shape # to find the size of the dataset here we have 1338 rows and 13 columns"
   ]
  },
  {
   "cell_type": "markdown",
   "id": "5e815440",
   "metadata": {},
   "source": [
    "i) `shape` - can be used directly on dataframe "
   ]
  },
  {
   "cell_type": "code",
   "execution_count": 14,
   "id": "018e8b32",
   "metadata": {},
   "outputs": [
    {
     "name": "stdout",
     "output_type": "stream",
     "text": [
      "<class 'pandas.core.frame.DataFrame'>\n",
      "RangeIndex: 1338 entries, 0 to 1337\n",
      "Data columns (total 13 columns):\n",
      " #   Column                           Non-Null Count  Dtype  \n",
      "---  ------                           --------------  -----  \n",
      " 0   age                              1329 non-null   float64\n",
      " 1   sex                              1338 non-null   object \n",
      " 2   bmi                              1335 non-null   float64\n",
      " 3   children                         1333 non-null   float64\n",
      " 4   smoker                           1338 non-null   object \n",
      " 5   Claim_Amount                     1324 non-null   float64\n",
      " 6   past_consultations               1332 non-null   float64\n",
      " 7   num_of_steps                     1335 non-null   float64\n",
      " 8   Hospital_expenditure             1334 non-null   float64\n",
      " 9   NUmber_of_past_hospitalizations  1336 non-null   float64\n",
      " 10  Anual_Salary                     1332 non-null   float64\n",
      " 11  region                           1338 non-null   object \n",
      " 12  charges                          1338 non-null   float64\n",
      "dtypes: float64(10), object(3)\n",
      "memory usage: 136.0+ KB\n"
     ]
    }
   ],
   "source": [
    "# we can also use info to check on the basic information of the data \n",
    "\n",
    "Insurance_df.info()"
   ]
  },
  {
   "cell_type": "code",
   "execution_count": 15,
   "id": "ffa58c90",
   "metadata": {},
   "outputs": [
    {
     "data": {
      "text/plain": [
       "age                                 9\n",
       "sex                                 0\n",
       "bmi                                 3\n",
       "children                            5\n",
       "smoker                              0\n",
       "Claim_Amount                       14\n",
       "past_consultations                  6\n",
       "num_of_steps                        3\n",
       "Hospital_expenditure                4\n",
       "NUmber_of_past_hospitalizations     2\n",
       "Anual_Salary                        6\n",
       "region                              0\n",
       "charges                             0\n",
       "dtype: int64"
      ]
     },
     "execution_count": 15,
     "metadata": {},
     "output_type": "execute_result"
    }
   ],
   "source": [
    "Insurance_df.isnull().sum()"
   ]
  },
  {
   "cell_type": "code",
   "execution_count": 16,
   "id": "591ddc97",
   "metadata": {},
   "outputs": [],
   "source": [
    "# we can see that 9 of the features/columns have null values in it."
   ]
  },
  {
   "cell_type": "markdown",
   "id": "cd04d721",
   "metadata": {},
   "source": [
    "So, to deal with **null values** we can \n",
    "\n",
    " - drop the null values  `*dropna()*`\n",
    " - impute the null values (mean, median and mode mainly)  `*fillna()*`\n",
    " - Again impute the null values (but here we keep track of the values we have changed)"
   ]
  },
  {
   "cell_type": "code",
   "execution_count": 18,
   "id": "ee8e3bc6",
   "metadata": {},
   "outputs": [
    {
     "data": {
      "text/plain": [
       "0    no\n",
       "Name: smoker, dtype: object"
      ]
     },
     "execution_count": 18,
     "metadata": {},
     "output_type": "execute_result"
    }
   ],
   "source": [
    "Insurance_df['smoker'].mode() # as somker is catagorial data 0 - for no smoking 1- somking"
   ]
  },
  {
   "cell_type": "code",
   "execution_count": 19,
   "id": "20ca58b6",
   "metadata": {},
   "outputs": [
    {
     "data": {
      "text/plain": [
       "'no'"
      ]
     },
     "execution_count": 19,
     "metadata": {},
     "output_type": "execute_result"
    }
   ],
   "source": [
    "Insurance_df['smoker'].mode()[0]"
   ]
  },
  {
   "cell_type": "code",
   "execution_count": 20,
   "id": "a00abdcf",
   "metadata": {},
   "outputs": [
    {
     "data": {
      "text/plain": [
       "['age',\n",
       " 'sex',\n",
       " 'bmi',\n",
       " 'children',\n",
       " 'smoker',\n",
       " 'Claim_Amount',\n",
       " 'past_consultations',\n",
       " 'num_of_steps',\n",
       " 'Hospital_expenditure',\n",
       " 'NUmber_of_past_hospitalizations',\n",
       " 'Anual_Salary',\n",
       " 'region',\n",
       " 'charges']"
      ]
     },
     "execution_count": 20,
     "metadata": {},
     "output_type": "execute_result"
    }
   ],
   "source": [
    "cols_list = list(Insurance_df.columns)\n",
    "cols_list"
   ]
  },
  {
   "cell_type": "code",
   "execution_count": 21,
   "id": "13f99384",
   "metadata": {},
   "outputs": [],
   "source": [
    "# for on fill up the missing values \n",
    "\n",
    "for i in cols_list:\n",
    "    \n",
    "    if Insurance_df[i].dtype == \"object\":\n",
    "        \n",
    "        #categorical\n",
    "        Insurance_df[i] = Insurance_df[i].fillna(Insurance_df[i].mode()[0])\n",
    "        \n",
    "    else :\n",
    "        Insurance_df[i]= Insurance_df[i].fillna(Insurance_df[i].mean())\n",
    "        "
   ]
  },
  {
   "cell_type": "markdown",
   "id": "b4589ee6",
   "metadata": {},
   "source": [
    "##### Using fillna or dropna depends on problem statement and the dataset \n",
    "\n",
    "-- For now I beleive\n",
    "\n",
    "- we must use `fillna` when small amount of data is missing ( as in we are not adding too much of new values)\n",
    "- we can use `dropna` if a large number of data is missing in a columns \n",
    "( just check if the cols is important to determine the target value or not) \n",
    "if its *not important* we can easily drop as if we fill it we may add too much manipulated data to the dataset.\n",
    "If it is *important* we try to get the data from client or check the source again before replacing the null values for better result.\n"
   ]
  },
  {
   "cell_type": "code",
   "execution_count": 22,
   "id": "11acbb1e",
   "metadata": {},
   "outputs": [
    {
     "data": {
      "text/plain": [
       "age                                0\n",
       "sex                                0\n",
       "bmi                                0\n",
       "children                           0\n",
       "smoker                             0\n",
       "Claim_Amount                       0\n",
       "past_consultations                 0\n",
       "num_of_steps                       0\n",
       "Hospital_expenditure               0\n",
       "NUmber_of_past_hospitalizations    0\n",
       "Anual_Salary                       0\n",
       "region                             0\n",
       "charges                            0\n",
       "dtype: int64"
      ]
     },
     "execution_count": 22,
     "metadata": {},
     "output_type": "execute_result"
    }
   ],
   "source": [
    "# check for the null values again to verify if all cells are filled.\n",
    "\n",
    "Insurance_df.isna().sum()"
   ]
  },
  {
   "cell_type": "code",
   "execution_count": 24,
   "id": "b41655eb",
   "metadata": {},
   "outputs": [
    {
     "data": {
      "image/png": "[encoded data removed]",
      "text/plain": [
       "<Figure size 640x480 with 1 Axes>"
      ]
     },
     "metadata": {},
     "output_type": "display_data"
    },
    {
     "data": {
      "image/png": "[encoded data removed]",
      "text/plain": [
       "<Figure size 640x480 with 1 Axes>"
      ]
     },
     "metadata": {},
     "output_type": "display_data"
    },
    {
     "data": {
      "image/png": "[encoded data removed]",
      "text/plain": [
       "<Figure size 640x480 with 1 Axes>"
      ]
     },
     "metadata": {},
     "output_type": "display_data"
    },
    {
     "data": {
      "image/png": "[encoded data removed]",
      "text/plain": [
       "<Figure size 640x480 with 1 Axes>"
      ]
     },
     "metadata": {},
     "output_type": "display_data"
    },
    {
     "data": {
      "image/png": "[encoded data removed]",
      "text/plain": [
       "<Figure size 640x480 with 1 Axes>"
      ]
     },
     "metadata": {},
     "output_type": "display_data"
    },
    {
     "data": {
      "image/png": "[encoded data removed]",
      "text/plain": [
       "<Figure size 640x480 with 1 Axes>"
      ]
     },
     "metadata": {},
     "output_type": "display_data"
    },
    {
     "data": {
      "image/png": "[encoded data removed]",
      "text/plain": [
       "<Figure size 640x480 with 1 Axes>"
      ]
     },
     "metadata": {},
     "output_type": "display_data"
    },
    {
     "data": {
      "image/png": "[encoded data removed]",
      "text/plain": [
       "<Figure size 640x480 with 1 Axes>"
      ]
     },
     "metadata": {},
     "output_type": "display_data"
    },
    {
     "data": {
      "image/png": "[encoded data removed]",
      "text/plain": [
       "<Figure size 640x480 with 1 Axes>"
      ]
     },
     "metadata": {},
     "output_type": "display_data"
    },
    {
     "data": {
      "image/png": "[encoded data removed]",
      "text/plain": [
       "<Figure size 640x480 with 1 Axes>"
      ]
     },
     "metadata": {},
     "output_type": "display_data"
    }
   ],
   "source": [
    "# so we have removed the null values.\n",
    "\n",
    "# Now, lets check distribution of the features \n",
    "\n",
    "# Do remember we can only plot a graph for numerical values\n",
    "\n",
    "for i in cols_list:\n",
    "    \n",
    "    if ((Insurance_df[i].dtype == 'int64') or (Insurance_df[i].dtype == 'float64')):\n",
    "        plt.hist(Insurance_df[i])\n",
    "        plt.xlabel(i)\n",
    "        plt.ylabel('count')\n",
    "        plt.show() # we use this to remove the warning in jupyter notebook.\n",
    "    "
   ]
  },
  {
   "cell_type": "code",
   "execution_count": 25,
   "id": "ca756623",
   "metadata": {},
   "outputs": [
    {
     "data": {
      "text/plain": [
       "18.000000    69\n",
       "19.000000    66\n",
       "50.000000    29\n",
       "46.000000    29\n",
       "45.000000    29\n",
       "52.000000    29\n",
       "48.000000    29\n",
       "51.000000    29\n",
       "47.000000    29\n",
       "20.000000    28\n",
       "49.000000    28\n",
       "54.000000    28\n",
       "27.000000    28\n",
       "26.000000    28\n",
       "24.000000    28\n",
       "53.000000    28\n",
       "21.000000    28\n",
       "28.000000    28\n",
       "40.000000    27\n",
       "44.000000    27\n",
       "43.000000    27\n",
       "42.000000    27\n",
       "41.000000    27\n",
       "23.000000    27\n",
       "30.000000    27\n",
       "29.000000    27\n",
       "25.000000    27\n",
       "55.000000    26\n",
       "57.000000    26\n",
       "34.000000    26\n",
       "32.000000    26\n",
       "33.000000    26\n",
       "31.000000    26\n",
       "56.000000    26\n",
       "22.000000    26\n",
       "59.000000    25\n",
       "58.000000    25\n",
       "39.000000    25\n",
       "38.000000    25\n",
       "36.000000    25\n",
       "37.000000    25\n",
       "35.000000    24\n",
       "60.000000    23\n",
       "61.000000    23\n",
       "62.000000    23\n",
       "63.000000    23\n",
       "64.000000    22\n",
       "39.310008     9\n",
       "Name: age, dtype: int64"
      ]
     },
     "execution_count": 25,
     "metadata": {},
     "output_type": "execute_result"
    }
   ],
   "source": [
    "Insurance_df['age'].value_counts() # just to verify with the plot above "
   ]
  },
  {
   "cell_type": "code",
   "execution_count": 26,
   "id": "5b62cd08",
   "metadata": {},
   "outputs": [
    {
     "data": {
      "text/plain": [
       "1.000000    957\n",
       "2.000000    227\n",
       "0.000000    150\n",
       "1.060629      2\n",
       "3.000000      2\n",
       "Name: NUmber_of_past_hospitalizations, dtype: int64"
      ]
     },
     "execution_count": 26,
     "metadata": {},
     "output_type": "execute_result"
    }
   ],
   "source": [
    "Insurance_df['NUmber_of_past_hospitalizations'].value_counts()"
   ]
  },
  {
   "cell_type": "code",
   "execution_count": 28,
   "id": "b8be62ac",
   "metadata": {},
   "outputs": [
    {
     "data": {
      "image/png": "[encoded data removed]",
      "text/plain": [
       "<Figure size 640x480 with 1 Axes>"
      ]
     },
     "metadata": {},
     "output_type": "display_data"
    },
    {
     "data": {
      "image/png": "[encoded data removed]",
      "text/plain": [
       "<Figure size 640x480 with 1 Axes>"
      ]
     },
     "metadata": {},
     "output_type": "display_data"
    },
    {
     "data": {
      "image/png": "[encoded data removed]",
      "text/plain": [
       "<Figure size 640x480 with 1 Axes>"
      ]
     },
     "metadata": {},
     "output_type": "display_data"
    },
    {
     "data": {
      "image/png": "[encoded data removed]",
      "text/plain": [
       "<Figure size 640x480 with 1 Axes>"
      ]
     },
     "metadata": {},
     "output_type": "display_data"
    },
    {
     "data": {
      "image/png": "[encoded data removed]",
      "text/plain": [
       "<Figure size 640x480 with 1 Axes>"
      ]
     },
     "metadata": {},
     "output_type": "display_data"
    },
    {
     "data": {
      "image/png": "[encoded data removed]",
      "text/plain": [
       "<Figure size 640x480 with 1 Axes>"
      ]
     },
     "metadata": {},
     "output_type": "display_data"
    },
    {
     "data": {
      "image/png": "[encoded data removed]",
      "text/plain": [
       "<Figure size 640x480 with 1 Axes>"
      ]
     },
     "metadata": {},
     "output_type": "display_data"
    },
    {
     "data": {
      "image/png": "[encoded data removed]",
      "text/plain": [
       "<Figure size 640x480 with 1 Axes>"
      ]
     },
     "metadata": {},
     "output_type": "display_data"
    },
    {
     "data": {
      "image/png": "[encoded data removed]",
      "text/plain": [
       "<Figure size 640x480 with 1 Axes>"
      ]
     },
     "metadata": {},
     "output_type": "display_data"
    },
    {
     "data": {
      "image/png": "[encoded data removed]",
      "text/plain": [
       "<Figure size 640x480 with 1 Axes>"
      ]
     },
     "metadata": {},
     "output_type": "display_data"
    }
   ],
   "source": [
    "# now lets check for the outliers\n",
    "# box plot\n",
    "\n",
    "for i in cols_list:\n",
    "    \n",
    "    if((Insurance_df[i].dtype == 'int64') or (Insurance_df[i].dtype == 'float64')):\n",
    "        plt.boxplot(Insurance_df[i])\n",
    "        plt.xlabel(i)\n",
    "        plt.ylabel('count')\n",
    "        plt.show() # without this line it was showing the last graph\n",
    "        "
   ]
  },
  {
   "cell_type": "code",
   "execution_count": 34,
   "id": "7fb67bf7",
   "metadata": {},
   "outputs": [
    {
     "data": {
      "text/html": [
       "<div>\n",
       "<style scoped>\n",
       "    .dataframe tbody tr th:only-of-type {\n",
       "        vertical-align: middle;\n",
       "    }\n",
       "\n",
       "    .dataframe tbody tr th {\n",
       "        vertical-align: top;\n",
       "    }\n",
       "\n",
       "    .dataframe thead th {\n",
       "        text-align: right;\n",
       "    }\n",
       "</style>\n",
       "<table border=\"1\" class=\"dataframe\">\n",
       "  <thead>\n",
       "    <tr style=\"text-align: right;\">\n",
       "      <th></th>\n",
       "      <th>age</th>\n",
       "      <th>bmi</th>\n",
       "      <th>children</th>\n",
       "      <th>Claim_Amount</th>\n",
       "      <th>past_consultations</th>\n",
       "      <th>num_of_steps</th>\n",
       "      <th>Hospital_expenditure</th>\n",
       "      <th>NUmber_of_past_hospitalizations</th>\n",
       "      <th>Anual_Salary</th>\n",
       "      <th>charges</th>\n",
       "    </tr>\n",
       "  </thead>\n",
       "  <tbody>\n",
       "    <tr>\n",
       "      <th>count</th>\n",
       "      <td>1338.000000</td>\n",
       "      <td>1338.000000</td>\n",
       "      <td>1338.000000</td>\n",
       "      <td>1338.000000</td>\n",
       "      <td>1338.000000</td>\n",
       "      <td>1.338000e+03</td>\n",
       "      <td>1.338000e+03</td>\n",
       "      <td>1338.000000</td>\n",
       "      <td>1.338000e+03</td>\n",
       "      <td>1338.000000</td>\n",
       "    </tr>\n",
       "    <tr>\n",
       "      <th>mean</th>\n",
       "      <td>39.310008</td>\n",
       "      <td>30.665112</td>\n",
       "      <td>1.090773</td>\n",
       "      <td>33361.327180</td>\n",
       "      <td>15.216216</td>\n",
       "      <td>9.100047e+05</td>\n",
       "      <td>1.584179e+07</td>\n",
       "      <td>1.060629</td>\n",
       "      <td>3.696849e+08</td>\n",
       "      <td>13270.422265</td>\n",
       "    </tr>\n",
       "    <tr>\n",
       "      <th>std</th>\n",
       "      <td>13.987500</td>\n",
       "      <td>6.094840</td>\n",
       "      <td>1.199606</td>\n",
       "      <td>15535.307255</td>\n",
       "      <td>7.450948</td>\n",
       "      <td>9.178297e+04</td>\n",
       "      <td>2.665309e+07</td>\n",
       "      <td>0.533184</td>\n",
       "      <td>5.656109e+08</td>\n",
       "      <td>12110.011237</td>\n",
       "    </tr>\n",
       "    <tr>\n",
       "      <th>min</th>\n",
       "      <td>18.000000</td>\n",
       "      <td>15.960000</td>\n",
       "      <td>0.000000</td>\n",
       "      <td>1920.136268</td>\n",
       "      <td>1.000000</td>\n",
       "      <td>6.954300e+05</td>\n",
       "      <td>2.945253e+04</td>\n",
       "      <td>0.000000</td>\n",
       "      <td>2.747072e+06</td>\n",
       "      <td>1121.873900</td>\n",
       "    </tr>\n",
       "    <tr>\n",
       "      <th>25%</th>\n",
       "      <td>27.000000</td>\n",
       "      <td>26.315000</td>\n",
       "      <td>0.000000</td>\n",
       "      <td>20947.645198</td>\n",
       "      <td>9.000000</td>\n",
       "      <td>8.474898e+05</td>\n",
       "      <td>4.084941e+06</td>\n",
       "      <td>1.000000</td>\n",
       "      <td>7.755085e+07</td>\n",
       "      <td>4740.287150</td>\n",
       "    </tr>\n",
       "    <tr>\n",
       "      <th>50%</th>\n",
       "      <td>39.310008</td>\n",
       "      <td>30.400000</td>\n",
       "      <td>1.000000</td>\n",
       "      <td>33611.286065</td>\n",
       "      <td>15.000000</td>\n",
       "      <td>9.140155e+05</td>\n",
       "      <td>7.500985e+06</td>\n",
       "      <td>1.000000</td>\n",
       "      <td>1.422756e+08</td>\n",
       "      <td>9382.033000</td>\n",
       "    </tr>\n",
       "    <tr>\n",
       "      <th>75%</th>\n",
       "      <td>51.000000</td>\n",
       "      <td>34.656250</td>\n",
       "      <td>2.000000</td>\n",
       "      <td>44978.873188</td>\n",
       "      <td>20.000000</td>\n",
       "      <td>9.715100e+05</td>\n",
       "      <td>1.090187e+07</td>\n",
       "      <td>1.000000</td>\n",
       "      <td>3.298713e+08</td>\n",
       "      <td>16639.912515</td>\n",
       "    </tr>\n",
       "    <tr>\n",
       "      <th>max</th>\n",
       "      <td>64.000000</td>\n",
       "      <td>53.130000</td>\n",
       "      <td>5.000000</td>\n",
       "      <td>77277.988480</td>\n",
       "      <td>40.000000</td>\n",
       "      <td>1.107872e+06</td>\n",
       "      <td>2.616317e+08</td>\n",
       "      <td>3.000000</td>\n",
       "      <td>4.117197e+09</td>\n",
       "      <td>63770.428010</td>\n",
       "    </tr>\n",
       "  </tbody>\n",
       "</table>\n",
       "</div>"
      ],
      "text/plain": [
       "               age          bmi     children  Claim_Amount  \\\n",
       "count  1338.000000  1338.000000  1338.000000   1338.000000   \n",
       "mean     39.310008    30.665112     1.090773  33361.327180   \n",
       "std      13.987500     6.094840     1.199606  15535.307255   \n",
       "min      18.000000    15.960000     0.000000   1920.136268   \n",
       "25%      27.000000    26.315000     0.000000  20947.645198   \n",
       "50%      39.310008    30.400000     1.000000  33611.286065   \n",
       "75%      51.000000    34.656250     2.000000  44978.873188   \n",
       "max      64.000000    53.130000     5.000000  77277.988480   \n",
       "\n",
       "       past_consultations  num_of_steps  Hospital_expenditure  \\\n",
       "count         1338.000000  1.338000e+03          1.338000e+03   \n",
       "mean            15.216216  9.100047e+05          1.584179e+07   \n",
       "std              7.450948  9.178297e+04          2.665309e+07   \n",
       "min              1.000000  6.954300e+05          2.945253e+04   \n",
       "25%              9.000000  8.474898e+05          4.084941e+06   \n",
       "50%             15.000000  9.140155e+05          7.500985e+06   \n",
       "75%             20.000000  9.715100e+05          1.090187e+07   \n",
       "max             40.000000  1.107872e+06          2.616317e+08   \n",
       "\n",
       "       NUmber_of_past_hospitalizations  Anual_Salary       charges  \n",
       "count                      1338.000000  1.338000e+03   1338.000000  \n",
       "mean                          1.060629  3.696849e+08  13270.422265  \n",
       "std                           0.533184  5.656109e+08  12110.011237  \n",
       "min                           0.000000  2.747072e+06   1121.873900  \n",
       "25%                           1.000000  7.755085e+07   4740.287150  \n",
       "50%                           1.000000  1.422756e+08   9382.033000  \n",
       "75%                           1.000000  3.298713e+08  16639.912515  \n",
       "max                           3.000000  4.117197e+09  63770.428010  "
      ]
     },
     "execution_count": 34,
     "metadata": {},
     "output_type": "execute_result"
    }
   ],
   "source": [
    "Insurance_df.describe() # to check for min max and compare with the box plot  "
   ]
  },
  {
   "cell_type": "markdown",
   "id": "95fb7036",
   "metadata": {},
   "source": [
    "#### now we can see the outlier so, lets start treating it \n",
    "\n",
    "`NOTE` don't exclude a outlier if its signify's importance ( they can help us with rare events)\n",
    "eg: stock market crash - outliers are important is these cases \n",
    "    \n",
    "Now to handle outliers \n",
    "\n",
    " - There are different methods \n",
    "\n",
    "     - quantile IQR\n",
    "     - Z score \n",
    "     - **Find the next one**\n",
    "    \n",
    "Here we are using `Quantile IQR` method.\n",
    "IQR = Q3-Q1 IQR\n",
    "\n",
    "#lower limit is calculated as Q1-1.5*IQR\n",
    "\n",
    "#Upper limit is calculated as Q3+1.5*IQR\n",
    "\n",
    "For this dataset\n",
    "\n",
    "     ->  Q1 = Insurance_df['bmi'].quantile(0.25) \n",
    "     ->  Q3 = Insurance_df['bmi'].quantile(0.75)\n",
    "\n",
    "Insurance_df = Insurance_df[(Insurance_df['bmi']> Q1-1.5IQR) & (Insurance_df['bmi']< Q3+1.5IQR)]"
   ]
  },
  {
   "cell_type": "code",
   "execution_count": 39,
   "id": "bf6ce9fd",
   "metadata": {},
   "outputs": [],
   "source": [
    "outlier_list_features = ['bmi','past_consultations','Hospital_expenditure', 'Anual_Salary']\n",
    "\n",
    "for i in outlier_list_features:\n",
    "    \n",
    "    Q1 = Insurance_df[i].quantile(0.25) # percentage lower limit\n",
    "    Q3 = Insurance_df[i].quantile(0.75) # percentage upper limit\n",
    "    \n",
    "    IQR = Q3 -Q1\n",
    "    \n",
    "    Insurance = Insurance_df[(Insurance_df[i] >= Q1 - 1.5*IQR) & (Insurance_df[i] <= Q3 + 1.5*IQR)]\n",
    "    # here we are removing the outliers and only considering the part that is covered in the above condition\n",
    "    \n"
   ]
  },
  {
   "cell_type": "markdown",
   "id": "f8cce78f",
   "metadata": {},
   "source": [
    "Try to **check** if the percentage of upper and lower limit"
   ]
  },
  {
   "cell_type": "code",
   "execution_count": 40,
   "id": "a5c0eda9",
   "metadata": {},
   "outputs": [
    {
     "data": {
      "text/plain": [
       "(1338, 13)"
      ]
     },
     "execution_count": 40,
     "metadata": {},
     "output_type": "execute_result"
    }
   ],
   "source": [
    "Insurance_df.shape"
   ]
  },
  {
   "cell_type": "code",
   "execution_count": 42,
   "id": "3a790ac7",
   "metadata": {},
   "outputs": [
    {
     "data": {
      "text/plain": [
       "(1146, 13)"
      ]
     },
     "execution_count": 42,
     "metadata": {},
     "output_type": "execute_result"
    }
   ],
   "source": [
    "Insurance.shape \n",
    "# As I have changed the variable you can store it in the original name(dataset) as well"
   ]
  },
  {
   "cell_type": "code",
   "execution_count": 45,
   "id": "c0d4ecd9",
   "metadata": {},
   "outputs": [
    {
     "data": {
      "text/plain": [
       "-192"
      ]
     },
     "execution_count": 45,
     "metadata": {},
     "output_type": "execute_result"
    }
   ],
   "source": [
    "1146-1338"
   ]
  },
  {
   "cell_type": "code",
   "execution_count": 52,
   "id": "0c151193",
   "metadata": {},
   "outputs": [
    {
     "data": {
      "text/plain": [
       "0"
      ]
     },
     "execution_count": 52,
     "metadata": {},
     "output_type": "execute_result"
    }
   ],
   "source": [
    "# we must check for duplicate values now\n",
    "\n",
    "Insurance.duplicated().sum()"
   ]
  },
  {
   "cell_type": "code",
   "execution_count": 53,
   "id": "537b018e",
   "metadata": {},
   "outputs": [],
   "source": [
    "# as we don't have duplicates in this dataset so, we can continue \n",
    "\n",
    "# or we may have used drop_duplicates() function to clean the dataset\n"
   ]
  },
  {
   "cell_type": "markdown",
   "id": "4a8daf7b",
   "metadata": {},
   "source": [
    "#### Feature Importance\n",
    "\n",
    "Linear Regression can be used to get important features by seeing their coefficients after model fitting. \n",
    "The highly effecting variables have large coefficients.\n",
    "\n",
    "*Coefficients*"
   ]
  },
  {
   "cell_type": "markdown",
   "id": "6601d857",
   "metadata": {},
   "source": [
    "### Coefficients of the features in linear regression \n",
    "\n",
    "\n",
    "- coefficients = pd.DataFrame({\"Feature\":X_train.columns,\"Coefficients\":np.transpose(lr.coef_)}).sort_values(by='Coefficients',ascending = False)\n",
    "\n",
    "- coefficients"
   ]
  },
  {
   "cell_type": "markdown",
   "id": "91c4a070",
   "metadata": {},
   "source": [
    "#### our EDA is complete now ( try scaling, normalization or standardization later in new *notebook*)"
   ]
  },
  {
   "cell_type": "markdown",
   "id": "3f4881f9",
   "metadata": {},
   "source": [
    "#### Now for Feature selection"
   ]
  },
  {
   "cell_type": "markdown",
   "id": "890b4410",
   "metadata": {},
   "source": [
    "Explain - what is Multi-collinearity - VIF (if we have high correlation between independent variables) \n",
    "The relation between independent variables specially if high is known as Multi-collinearity. \n",
    "\n",
    "---> we have to find such cols and remove it. VIF is used to check Multi-collinearity.\n",
    "\n",
    "---> we have to drop the columns if its VIF value higher than 6 even if the column it highly related to the target as VIF is given\n",
    "     priority\n",
    "\n",
    "Note - Normal correlation we check between dependent (Y / target) and independent (x)\n",
    "\n",
    "\n",
    "When to use?\n",
    "\n",
    "\n",
    "How to check?\n",
    "\n",
    " - VIF ( variance inflation factor) is used to check Multi-collinearity. \n",
    "    Ideal value of VIF must be less than 6\n",
    "\n",
    "Advantages ?\n",
    "\n",
    "- Mainly helps in regression problems only (like linear Regregression and logistic regression) \n",
    "  not used for \"decision or random forest\" as they calculate this in their own method(internally deals with this). \n",
    "\n",
    "Disadvantages?\n"
   ]
  },
  {
   "cell_type": "code",
   "execution_count": 55,
   "id": "2057f80f",
   "metadata": {},
   "outputs": [
    {
     "data": {
      "text/html": [
       "<div>\n",
       "<style scoped>\n",
       "    .dataframe tbody tr th:only-of-type {\n",
       "        vertical-align: middle;\n",
       "    }\n",
       "\n",
       "    .dataframe tbody tr th {\n",
       "        vertical-align: top;\n",
       "    }\n",
       "\n",
       "    .dataframe thead th {\n",
       "        text-align: right;\n",
       "    }\n",
       "</style>\n",
       "<table border=\"1\" class=\"dataframe\">\n",
       "  <thead>\n",
       "    <tr style=\"text-align: right;\">\n",
       "      <th></th>\n",
       "      <th>feature</th>\n",
       "      <th>VIF</th>\n",
       "    </tr>\n",
       "  </thead>\n",
       "  <tbody>\n",
       "    <tr>\n",
       "      <th>0</th>\n",
       "      <td>age</td>\n",
       "      <td>13.484870</td>\n",
       "    </tr>\n",
       "    <tr>\n",
       "      <th>1</th>\n",
       "      <td>bmi</td>\n",
       "      <td>25.344800</td>\n",
       "    </tr>\n",
       "    <tr>\n",
       "      <th>2</th>\n",
       "      <td>children</td>\n",
       "      <td>2.027611</td>\n",
       "    </tr>\n",
       "    <tr>\n",
       "      <th>3</th>\n",
       "      <td>Claim_Amount</td>\n",
       "      <td>5.986548</td>\n",
       "    </tr>\n",
       "    <tr>\n",
       "      <th>4</th>\n",
       "      <td>past_consultations</td>\n",
       "      <td>6.769301</td>\n",
       "    </tr>\n",
       "    <tr>\n",
       "      <th>5</th>\n",
       "      <td>num_of_steps</td>\n",
       "      <td>56.669854</td>\n",
       "    </tr>\n",
       "    <tr>\n",
       "      <th>6</th>\n",
       "      <td>Hospital_expenditure</td>\n",
       "      <td>3.597009</td>\n",
       "    </tr>\n",
       "    <tr>\n",
       "      <th>7</th>\n",
       "      <td>NUmber_of_past_hospitalizations</td>\n",
       "      <td>12.055058</td>\n",
       "    </tr>\n",
       "    <tr>\n",
       "      <th>8</th>\n",
       "      <td>Anual_Salary</td>\n",
       "      <td>4.504657</td>\n",
       "    </tr>\n",
       "  </tbody>\n",
       "</table>\n",
       "</div>"
      ],
      "text/plain": [
       "                           feature        VIF\n",
       "0                              age  13.484870\n",
       "1                              bmi  25.344800\n",
       "2                         children   2.027611\n",
       "3                     Claim_Amount   5.986548\n",
       "4               past_consultations   6.769301\n",
       "5                     num_of_steps  56.669854\n",
       "6             Hospital_expenditure   3.597009\n",
       "7  NUmber_of_past_hospitalizations  12.055058\n",
       "8                     Anual_Salary   4.504657"
      ]
     },
     "execution_count": 55,
     "metadata": {},
     "output_type": "execute_result"
    }
   ],
   "source": [
    "# lets first try Multi-collinearity - VIF\n",
    "\n",
    "# so lets import VIF - variance_inflation_factor\n",
    "\n",
    "from statsmodels.stats.outliers_influence import variance_inflation_factor \n",
    "\n",
    "col_list1 = [] #to store only the numerical independent data\n",
    "\n",
    "for i in Insurance.columns:\n",
    "    if ((Insurance[i].dtype !='object') & (i != 'charges')):\n",
    "        # here as only one categorical data is present we ignored it but we have to convert categorial data to numerical\n",
    "        # and then perform VIF\n",
    "        \n",
    "        col_list1.append(i)\n",
    "        \n",
    "X = Insurance[col_list1]\n",
    "vif_data = pd.DataFrame()\n",
    "vif_data['feature'] = X.columns\n",
    "vif_data['VIF']= [variance_inflation_factor(X.values,i) for i in range(len(X.columns))]\n",
    "\n",
    "# here i will run from 0-8 due to (range(len(x.columns)))\n",
    "# and for each i[0-8] X.values(VIF) will be calculated \n",
    "# each colum will be verified by all other columns \n",
    "\n",
    "vif_data\n",
    "\n"
   ]
  },
  {
   "cell_type": "code",
   "execution_count": 56,
   "id": "3ff021eb",
   "metadata": {},
   "outputs": [],
   "source": [
    "#as we can see num_of_steps as the highest VIF so, we drop that col \n",
    "Insurance = Insurance.drop(['num_of_steps'], axis=1)"
   ]
  },
  {
   "cell_type": "code",
   "execution_count": 57,
   "id": "c0388619",
   "metadata": {},
   "outputs": [
    {
     "data": {
      "text/plain": [
       "(1146, 12)"
      ]
     },
     "execution_count": 57,
     "metadata": {},
     "output_type": "execute_result"
    }
   ],
   "source": [
    "Insurance.shape"
   ]
  },
  {
   "cell_type": "code",
   "execution_count": 58,
   "id": "ef9f5878",
   "metadata": {},
   "outputs": [
    {
     "data": {
      "text/html": [
       "<div>\n",
       "<style scoped>\n",
       "    .dataframe tbody tr th:only-of-type {\n",
       "        vertical-align: middle;\n",
       "    }\n",
       "\n",
       "    .dataframe tbody tr th {\n",
       "        vertical-align: top;\n",
       "    }\n",
       "\n",
       "    .dataframe thead th {\n",
       "        text-align: right;\n",
       "    }\n",
       "</style>\n",
       "<table border=\"1\" class=\"dataframe\">\n",
       "  <thead>\n",
       "    <tr style=\"text-align: right;\">\n",
       "      <th></th>\n",
       "      <th>feature</th>\n",
       "      <th>VIF</th>\n",
       "    </tr>\n",
       "  </thead>\n",
       "  <tbody>\n",
       "    <tr>\n",
       "      <th>0</th>\n",
       "      <td>age</td>\n",
       "      <td>11.929050</td>\n",
       "    </tr>\n",
       "    <tr>\n",
       "      <th>1</th>\n",
       "      <td>bmi</td>\n",
       "      <td>11.351746</td>\n",
       "    </tr>\n",
       "    <tr>\n",
       "      <th>2</th>\n",
       "      <td>children</td>\n",
       "      <td>2.000044</td>\n",
       "    </tr>\n",
       "    <tr>\n",
       "      <th>3</th>\n",
       "      <td>Claim_Amount</td>\n",
       "      <td>5.526967</td>\n",
       "    </tr>\n",
       "    <tr>\n",
       "      <th>4</th>\n",
       "      <td>past_consultations</td>\n",
       "      <td>6.313034</td>\n",
       "    </tr>\n",
       "    <tr>\n",
       "      <th>5</th>\n",
       "      <td>Hospital_expenditure</td>\n",
       "      <td>3.589163</td>\n",
       "    </tr>\n",
       "    <tr>\n",
       "      <th>6</th>\n",
       "      <td>NUmber_of_past_hospitalizations</td>\n",
       "      <td>11.181159</td>\n",
       "    </tr>\n",
       "    <tr>\n",
       "      <th>7</th>\n",
       "      <td>Anual_Salary</td>\n",
       "      <td>4.404076</td>\n",
       "    </tr>\n",
       "  </tbody>\n",
       "</table>\n",
       "</div>"
      ],
      "text/plain": [
       "                           feature        VIF\n",
       "0                              age  11.929050\n",
       "1                              bmi  11.351746\n",
       "2                         children   2.000044\n",
       "3                     Claim_Amount   5.526967\n",
       "4               past_consultations   6.313034\n",
       "5             Hospital_expenditure   3.589163\n",
       "6  NUmber_of_past_hospitalizations  11.181159\n",
       "7                     Anual_Salary   4.404076"
      ]
     },
     "execution_count": 58,
     "metadata": {},
     "output_type": "execute_result"
    }
   ],
   "source": [
    "# we will have to repeat the above steps again \n",
    "\n",
    "from statsmodels.stats.outliers_influence import variance_inflation_factor \n",
    "\n",
    "col_list1 = [] #to store only the numerical independent data\n",
    "\n",
    "for i in Insurance.columns:\n",
    "    if ((Insurance[i].dtype !='object') & (i != 'charges')):\n",
    "        col_list1.append(i)\n",
    "        \n",
    "X = Insurance[col_list1]\n",
    "vif_data = pd.DataFrame()\n",
    "vif_data['feature'] = X.columns\n",
    "vif_data['VIF']= [variance_inflation_factor(X.values,i) for i in range(len(X.columns))]\n",
    "vif_data\n"
   ]
  },
  {
   "cell_type": "code",
   "execution_count": 59,
   "id": "3274f1ec",
   "metadata": {},
   "outputs": [],
   "source": [
    "# as we can see the three columns have almost the same value. so for now I choose to drop 'NUmber_of_past_hospitalizations'\n",
    "\n",
    "Insurance = Insurance.drop(['NUmber_of_past_hospitalizations'], axis=1)"
   ]
  },
  {
   "cell_type": "code",
   "execution_count": 60,
   "id": "83f5d603",
   "metadata": {},
   "outputs": [
    {
     "data": {
      "text/html": [
       "<div>\n",
       "<style scoped>\n",
       "    .dataframe tbody tr th:only-of-type {\n",
       "        vertical-align: middle;\n",
       "    }\n",
       "\n",
       "    .dataframe tbody tr th {\n",
       "        vertical-align: top;\n",
       "    }\n",
       "\n",
       "    .dataframe thead th {\n",
       "        text-align: right;\n",
       "    }\n",
       "</style>\n",
       "<table border=\"1\" class=\"dataframe\">\n",
       "  <thead>\n",
       "    <tr style=\"text-align: right;\">\n",
       "      <th></th>\n",
       "      <th>feature</th>\n",
       "      <th>VIF</th>\n",
       "    </tr>\n",
       "  </thead>\n",
       "  <tbody>\n",
       "    <tr>\n",
       "      <th>0</th>\n",
       "      <td>age</td>\n",
       "      <td>9.573174</td>\n",
       "    </tr>\n",
       "    <tr>\n",
       "      <th>1</th>\n",
       "      <td>bmi</td>\n",
       "      <td>11.257280</td>\n",
       "    </tr>\n",
       "    <tr>\n",
       "      <th>2</th>\n",
       "      <td>children</td>\n",
       "      <td>1.789902</td>\n",
       "    </tr>\n",
       "    <tr>\n",
       "      <th>3</th>\n",
       "      <td>Claim_Amount</td>\n",
       "      <td>5.464689</td>\n",
       "    </tr>\n",
       "    <tr>\n",
       "      <th>4</th>\n",
       "      <td>past_consultations</td>\n",
       "      <td>6.307090</td>\n",
       "    </tr>\n",
       "    <tr>\n",
       "      <th>5</th>\n",
       "      <td>Hospital_expenditure</td>\n",
       "      <td>3.523743</td>\n",
       "    </tr>\n",
       "    <tr>\n",
       "      <th>6</th>\n",
       "      <td>Anual_Salary</td>\n",
       "      <td>3.974889</td>\n",
       "    </tr>\n",
       "  </tbody>\n",
       "</table>\n",
       "</div>"
      ],
      "text/plain": [
       "                feature        VIF\n",
       "0                   age   9.573174\n",
       "1                   bmi  11.257280\n",
       "2              children   1.789902\n",
       "3          Claim_Amount   5.464689\n",
       "4    past_consultations   6.307090\n",
       "5  Hospital_expenditure   3.523743\n",
       "6          Anual_Salary   3.974889"
      ]
     },
     "execution_count": 60,
     "metadata": {},
     "output_type": "execute_result"
    }
   ],
   "source": [
    "# same steps again \n",
    "\n",
    "from statsmodels.stats.outliers_influence import variance_inflation_factor \n",
    "\n",
    "col_list1 = [] #to store only the numerical independent data\n",
    "\n",
    "for i in Insurance.columns:\n",
    "    if ((Insurance[i].dtype !='object') & (i != 'charges')):\n",
    "        col_list1.append(i)\n",
    "        \n",
    "X = Insurance[col_list1]\n",
    "vif_data = pd.DataFrame()\n",
    "vif_data['feature'] = X.columns\n",
    "vif_data['VIF']= [variance_inflation_factor(X.values,i) for i in range(len(X.columns))]\n",
    "vif_data"
   ]
  },
  {
   "cell_type": "code",
   "execution_count": 61,
   "id": "47593d3e",
   "metadata": {},
   "outputs": [],
   "source": [
    "Insurance = Insurance.drop(['bmi'], axis=1)"
   ]
  },
  {
   "cell_type": "code",
   "execution_count": 62,
   "id": "46f4ddbd",
   "metadata": {},
   "outputs": [
    {
     "data": {
      "text/html": [
       "<div>\n",
       "<style scoped>\n",
       "    .dataframe tbody tr th:only-of-type {\n",
       "        vertical-align: middle;\n",
       "    }\n",
       "\n",
       "    .dataframe tbody tr th {\n",
       "        vertical-align: top;\n",
       "    }\n",
       "\n",
       "    .dataframe thead th {\n",
       "        text-align: right;\n",
       "    }\n",
       "</style>\n",
       "<table border=\"1\" class=\"dataframe\">\n",
       "  <thead>\n",
       "    <tr style=\"text-align: right;\">\n",
       "      <th></th>\n",
       "      <th>feature</th>\n",
       "      <th>VIF</th>\n",
       "    </tr>\n",
       "  </thead>\n",
       "  <tbody>\n",
       "    <tr>\n",
       "      <th>0</th>\n",
       "      <td>age</td>\n",
       "      <td>6.367623</td>\n",
       "    </tr>\n",
       "    <tr>\n",
       "      <th>1</th>\n",
       "      <td>children</td>\n",
       "      <td>1.754581</td>\n",
       "    </tr>\n",
       "    <tr>\n",
       "      <th>2</th>\n",
       "      <td>Claim_Amount</td>\n",
       "      <td>4.824929</td>\n",
       "    </tr>\n",
       "    <tr>\n",
       "      <th>3</th>\n",
       "      <td>past_consultations</td>\n",
       "      <td>5.623349</td>\n",
       "    </tr>\n",
       "    <tr>\n",
       "      <th>4</th>\n",
       "      <td>Hospital_expenditure</td>\n",
       "      <td>3.472507</td>\n",
       "    </tr>\n",
       "    <tr>\n",
       "      <th>5</th>\n",
       "      <td>Anual_Salary</td>\n",
       "      <td>3.740875</td>\n",
       "    </tr>\n",
       "  </tbody>\n",
       "</table>\n",
       "</div>"
      ],
      "text/plain": [
       "                feature       VIF\n",
       "0                   age  6.367623\n",
       "1              children  1.754581\n",
       "2          Claim_Amount  4.824929\n",
       "3    past_consultations  5.623349\n",
       "4  Hospital_expenditure  3.472507\n",
       "5          Anual_Salary  3.740875"
      ]
     },
     "execution_count": 62,
     "metadata": {},
     "output_type": "execute_result"
    }
   ],
   "source": [
    "# same steps again \n",
    "\n",
    "from statsmodels.stats.outliers_influence import variance_inflation_factor \n",
    "\n",
    "col_list1 = [] #to store only the numerical independent data\n",
    "\n",
    "for i in Insurance.columns:\n",
    "    if ((Insurance[i].dtype !='object') & (i != 'charges')):\n",
    "        col_list1.append(i)\n",
    "        \n",
    "X = Insurance[col_list1]\n",
    "vif_data = pd.DataFrame()\n",
    "vif_data['feature'] = X.columns\n",
    "vif_data['VIF']= [variance_inflation_factor(X.values,i) for i in range(len(X.columns))]\n",
    "vif_data"
   ]
  },
  {
   "cell_type": "code",
   "execution_count": 63,
   "id": "2d13fab8",
   "metadata": {},
   "outputs": [],
   "source": [
    "# now as per me I can go ahead with these features "
   ]
  },
  {
   "cell_type": "markdown",
   "id": "33656bc1",
   "metadata": {},
   "source": [
    "### Model the data using Linear Regression"
   ]
  },
  {
   "cell_type": "code",
   "execution_count": 64,
   "id": "70ea03dd",
   "metadata": {},
   "outputs": [],
   "source": [
    "# lets start by importing the lib's\n",
    "\n",
    "from sklearn.linear_model import LinearRegression\n",
    "from sklearn.model_selection import train_test_split"
   ]
  },
  {
   "cell_type": "code",
   "execution_count": 65,
   "id": "25137c35",
   "metadata": {},
   "outputs": [
    {
     "data": {
      "text/html": [
       "<div>\n",
       "<style scoped>\n",
       "    .dataframe tbody tr th:only-of-type {\n",
       "        vertical-align: middle;\n",
       "    }\n",
       "\n",
       "    .dataframe tbody tr th {\n",
       "        vertical-align: top;\n",
       "    }\n",
       "\n",
       "    .dataframe thead th {\n",
       "        text-align: right;\n",
       "    }\n",
       "</style>\n",
       "<table border=\"1\" class=\"dataframe\">\n",
       "  <thead>\n",
       "    <tr style=\"text-align: right;\">\n",
       "      <th></th>\n",
       "      <th>age</th>\n",
       "      <th>children</th>\n",
       "      <th>Claim_Amount</th>\n",
       "      <th>past_consultations</th>\n",
       "      <th>Hospital_expenditure</th>\n",
       "      <th>Anual_Salary</th>\n",
       "    </tr>\n",
       "  </thead>\n",
       "  <tbody>\n",
       "    <tr>\n",
       "      <th>0</th>\n",
       "      <td>18.0</td>\n",
       "      <td>0.0</td>\n",
       "      <td>29087.54313</td>\n",
       "      <td>17.0</td>\n",
       "      <td>4.720921e+06</td>\n",
       "      <td>5.578497e+07</td>\n",
       "    </tr>\n",
       "    <tr>\n",
       "      <th>1</th>\n",
       "      <td>18.0</td>\n",
       "      <td>0.0</td>\n",
       "      <td>39053.67437</td>\n",
       "      <td>7.0</td>\n",
       "      <td>4.329832e+06</td>\n",
       "      <td>1.370089e+07</td>\n",
       "    </tr>\n",
       "    <tr>\n",
       "      <th>2</th>\n",
       "      <td>18.0</td>\n",
       "      <td>0.0</td>\n",
       "      <td>39023.62759</td>\n",
       "      <td>19.0</td>\n",
       "      <td>6.884861e+06</td>\n",
       "      <td>7.352311e+07</td>\n",
       "    </tr>\n",
       "    <tr>\n",
       "      <th>3</th>\n",
       "      <td>18.0</td>\n",
       "      <td>0.0</td>\n",
       "      <td>28185.39332</td>\n",
       "      <td>11.0</td>\n",
       "      <td>4.274774e+06</td>\n",
       "      <td>7.581968e+07</td>\n",
       "    </tr>\n",
       "    <tr>\n",
       "      <th>4</th>\n",
       "      <td>18.0</td>\n",
       "      <td>0.0</td>\n",
       "      <td>14697.85941</td>\n",
       "      <td>16.0</td>\n",
       "      <td>3.787294e+06</td>\n",
       "      <td>2.301232e+07</td>\n",
       "    </tr>\n",
       "    <tr>\n",
       "      <th>...</th>\n",
       "      <td>...</td>\n",
       "      <td>...</td>\n",
       "      <td>...</td>\n",
       "      <td>...</td>\n",
       "      <td>...</td>\n",
       "      <td>...</td>\n",
       "    </tr>\n",
       "    <tr>\n",
       "      <th>1147</th>\n",
       "      <td>20.0</td>\n",
       "      <td>0.0</td>\n",
       "      <td>49372.24572</td>\n",
       "      <td>21.0</td>\n",
       "      <td>2.180519e+07</td>\n",
       "      <td>7.000519e+08</td>\n",
       "    </tr>\n",
       "    <tr>\n",
       "      <th>1148</th>\n",
       "      <td>49.0</td>\n",
       "      <td>1.0</td>\n",
       "      <td>63328.19543</td>\n",
       "      <td>14.0</td>\n",
       "      <td>2.313545e+07</td>\n",
       "      <td>6.953394e+08</td>\n",
       "    </tr>\n",
       "    <tr>\n",
       "      <th>1150</th>\n",
       "      <td>48.0</td>\n",
       "      <td>1.0</td>\n",
       "      <td>54149.85460</td>\n",
       "      <td>14.0</td>\n",
       "      <td>2.180737e+07</td>\n",
       "      <td>7.044854e+08</td>\n",
       "    </tr>\n",
       "    <tr>\n",
       "      <th>1300</th>\n",
       "      <td>60.0</td>\n",
       "      <td>0.0</td>\n",
       "      <td>57588.33715</td>\n",
       "      <td>29.0</td>\n",
       "      <td>9.365456e+07</td>\n",
       "      <td>3.696849e+08</td>\n",
       "    </tr>\n",
       "    <tr>\n",
       "      <th>1312</th>\n",
       "      <td>64.0</td>\n",
       "      <td>0.0</td>\n",
       "      <td>54661.70946</td>\n",
       "      <td>37.0</td>\n",
       "      <td>1.117967e+08</td>\n",
       "      <td>3.696849e+08</td>\n",
       "    </tr>\n",
       "  </tbody>\n",
       "</table>\n",
       "<p>1146 rows × 6 columns</p>\n",
       "</div>"
      ],
      "text/plain": [
       "       age  children  Claim_Amount  past_consultations  Hospital_expenditure  \\\n",
       "0     18.0       0.0   29087.54313                17.0          4.720921e+06   \n",
       "1     18.0       0.0   39053.67437                 7.0          4.329832e+06   \n",
       "2     18.0       0.0   39023.62759                19.0          6.884861e+06   \n",
       "3     18.0       0.0   28185.39332                11.0          4.274774e+06   \n",
       "4     18.0       0.0   14697.85941                16.0          3.787294e+06   \n",
       "...    ...       ...           ...                 ...                   ...   \n",
       "1147  20.0       0.0   49372.24572                21.0          2.180519e+07   \n",
       "1148  49.0       1.0   63328.19543                14.0          2.313545e+07   \n",
       "1150  48.0       1.0   54149.85460                14.0          2.180737e+07   \n",
       "1300  60.0       0.0   57588.33715                29.0          9.365456e+07   \n",
       "1312  64.0       0.0   54661.70946                37.0          1.117967e+08   \n",
       "\n",
       "      Anual_Salary  \n",
       "0     5.578497e+07  \n",
       "1     1.370089e+07  \n",
       "2     7.352311e+07  \n",
       "3     7.581968e+07  \n",
       "4     2.301232e+07  \n",
       "...            ...  \n",
       "1147  7.000519e+08  \n",
       "1148  6.953394e+08  \n",
       "1150  7.044854e+08  \n",
       "1300  3.696849e+08  \n",
       "1312  3.696849e+08  \n",
       "\n",
       "[1146 rows x 6 columns]"
      ]
     },
     "execution_count": 65,
     "metadata": {},
     "output_type": "execute_result"
    }
   ],
   "source": [
    "X"
   ]
  },
  {
   "cell_type": "code",
   "execution_count": 66,
   "id": "a4016e13",
   "metadata": {},
   "outputs": [
    {
     "data": {
      "text/plain": [
       "0        1121.87390\n",
       "1        1131.50660\n",
       "2        1135.94070\n",
       "3        1136.39940\n",
       "4        1137.01100\n",
       "           ...     \n",
       "1147    26125.67477\n",
       "1148    26140.36030\n",
       "1150    26392.26029\n",
       "1300    45008.95550\n",
       "1312    46889.26120\n",
       "Name: charges, Length: 1146, dtype: float64"
      ]
     },
     "execution_count": 66,
     "metadata": {},
     "output_type": "execute_result"
    }
   ],
   "source": [
    "y = Insurance.iloc[:,-1]\n",
    "y"
   ]
  },
  {
   "cell_type": "code",
   "execution_count": 78,
   "id": "1612c1a9",
   "metadata": {},
   "outputs": [],
   "source": [
    "#train_test\n",
    "\n",
    "x_train, x_test, y_train, y_test = train_test_split(X, y, train_size = 0.75, random_state =99)\n",
    "# use random_state parameter ( we can write any index number here) to store the random value. so, the value doesn't change everytime we execute the code\n",
    "# train_size you can select from 70 to 85 check the accuracy and you can change them"
   ]
  },
  {
   "cell_type": "code",
   "execution_count": null,
   "id": "85643ca9",
   "metadata": {},
   "outputs": [],
   "source": [
    "# randomness is present in train_test_split and fit method."
   ]
  },
  {
   "cell_type": "code",
   "execution_count": 69,
   "id": "6f8c27d0",
   "metadata": {},
   "outputs": [
    {
     "data": {
      "text/html": [
       "<div>\n",
       "<style scoped>\n",
       "    .dataframe tbody tr th:only-of-type {\n",
       "        vertical-align: middle;\n",
       "    }\n",
       "\n",
       "    .dataframe tbody tr th {\n",
       "        vertical-align: top;\n",
       "    }\n",
       "\n",
       "    .dataframe thead th {\n",
       "        text-align: right;\n",
       "    }\n",
       "</style>\n",
       "<table border=\"1\" class=\"dataframe\">\n",
       "  <thead>\n",
       "    <tr style=\"text-align: right;\">\n",
       "      <th></th>\n",
       "      <th>age</th>\n",
       "      <th>children</th>\n",
       "      <th>Claim_Amount</th>\n",
       "      <th>past_consultations</th>\n",
       "      <th>Hospital_expenditure</th>\n",
       "      <th>Anual_Salary</th>\n",
       "    </tr>\n",
       "  </thead>\n",
       "  <tbody>\n",
       "    <tr>\n",
       "      <th>886</th>\n",
       "      <td>57.000000</td>\n",
       "      <td>2.0</td>\n",
       "      <td>23096.61230</td>\n",
       "      <td>9.0</td>\n",
       "      <td>5.633444e+06</td>\n",
       "      <td>1.972027e+08</td>\n",
       "    </tr>\n",
       "    <tr>\n",
       "      <th>888</th>\n",
       "      <td>60.000000</td>\n",
       "      <td>0.0</td>\n",
       "      <td>15062.57565</td>\n",
       "      <td>14.0</td>\n",
       "      <td>1.131602e+07</td>\n",
       "      <td>1.728527e+08</td>\n",
       "    </tr>\n",
       "    <tr>\n",
       "      <th>625</th>\n",
       "      <td>47.000000</td>\n",
       "      <td>1.0</td>\n",
       "      <td>16058.82732</td>\n",
       "      <td>8.0</td>\n",
       "      <td>5.902267e+06</td>\n",
       "      <td>1.550969e+08</td>\n",
       "    </tr>\n",
       "    <tr>\n",
       "      <th>46</th>\n",
       "      <td>39.310008</td>\n",
       "      <td>0.0</td>\n",
       "      <td>33218.34635</td>\n",
       "      <td>10.0</td>\n",
       "      <td>8.767307e+06</td>\n",
       "      <td>4.038872e+06</td>\n",
       "    </tr>\n",
       "    <tr>\n",
       "      <th>962</th>\n",
       "      <td>34.000000</td>\n",
       "      <td>1.0</td>\n",
       "      <td>22750.29375</td>\n",
       "      <td>19.0</td>\n",
       "      <td>4.438381e+06</td>\n",
       "      <td>2.950140e+08</td>\n",
       "    </tr>\n",
       "    <tr>\n",
       "      <th>...</th>\n",
       "      <td>...</td>\n",
       "      <td>...</td>\n",
       "      <td>...</td>\n",
       "      <td>...</td>\n",
       "      <td>...</td>\n",
       "      <td>...</td>\n",
       "    </tr>\n",
       "    <tr>\n",
       "      <th>55</th>\n",
       "      <td>18.000000</td>\n",
       "      <td>0.0</td>\n",
       "      <td>38348.23218</td>\n",
       "      <td>11.0</td>\n",
       "      <td>3.438646e+06</td>\n",
       "      <td>2.176227e+07</td>\n",
       "    </tr>\n",
       "    <tr>\n",
       "      <th>919</th>\n",
       "      <td>63.000000</td>\n",
       "      <td>0.0</td>\n",
       "      <td>49853.32582</td>\n",
       "      <td>22.0</td>\n",
       "      <td>9.828749e+06</td>\n",
       "      <td>2.260589e+08</td>\n",
       "    </tr>\n",
       "    <tr>\n",
       "      <th>1092</th>\n",
       "      <td>46.000000</td>\n",
       "      <td>1.0</td>\n",
       "      <td>19069.13409</td>\n",
       "      <td>18.0</td>\n",
       "      <td>1.721436e+07</td>\n",
       "      <td>4.723823e+08</td>\n",
       "    </tr>\n",
       "    <tr>\n",
       "      <th>1059</th>\n",
       "      <td>28.000000</td>\n",
       "      <td>0.0</td>\n",
       "      <td>24107.86599</td>\n",
       "      <td>18.0</td>\n",
       "      <td>1.223895e+07</td>\n",
       "      <td>4.816495e+08</td>\n",
       "    </tr>\n",
       "    <tr>\n",
       "      <th>641</th>\n",
       "      <td>50.000000</td>\n",
       "      <td>0.0</td>\n",
       "      <td>37222.47636</td>\n",
       "      <td>9.0</td>\n",
       "      <td>6.062378e+06</td>\n",
       "      <td>9.657123e+07</td>\n",
       "    </tr>\n",
       "  </tbody>\n",
       "</table>\n",
       "<p>916 rows × 6 columns</p>\n",
       "</div>"
      ],
      "text/plain": [
       "            age  children  Claim_Amount  past_consultations  \\\n",
       "886   57.000000       2.0   23096.61230                 9.0   \n",
       "888   60.000000       0.0   15062.57565                14.0   \n",
       "625   47.000000       1.0   16058.82732                 8.0   \n",
       "46    39.310008       0.0   33218.34635                10.0   \n",
       "962   34.000000       1.0   22750.29375                19.0   \n",
       "...         ...       ...           ...                 ...   \n",
       "55    18.000000       0.0   38348.23218                11.0   \n",
       "919   63.000000       0.0   49853.32582                22.0   \n",
       "1092  46.000000       1.0   19069.13409                18.0   \n",
       "1059  28.000000       0.0   24107.86599                18.0   \n",
       "641   50.000000       0.0   37222.47636                 9.0   \n",
       "\n",
       "      Hospital_expenditure  Anual_Salary  \n",
       "886           5.633444e+06  1.972027e+08  \n",
       "888           1.131602e+07  1.728527e+08  \n",
       "625           5.902267e+06  1.550969e+08  \n",
       "46            8.767307e+06  4.038872e+06  \n",
       "962           4.438381e+06  2.950140e+08  \n",
       "...                    ...           ...  \n",
       "55            3.438646e+06  2.176227e+07  \n",
       "919           9.828749e+06  2.260589e+08  \n",
       "1092          1.721436e+07  4.723823e+08  \n",
       "1059          1.223895e+07  4.816495e+08  \n",
       "641           6.062378e+06  9.657123e+07  \n",
       "\n",
       "[916 rows x 6 columns]"
      ]
     },
     "execution_count": 69,
     "metadata": {},
     "output_type": "execute_result"
    }
   ],
   "source": [
    "x_train"
   ]
  },
  {
   "cell_type": "code",
   "execution_count": 70,
   "id": "0ad57cea",
   "metadata": {},
   "outputs": [
    {
     "data": {
      "text/html": [
       "<div>\n",
       "<style scoped>\n",
       "    .dataframe tbody tr th:only-of-type {\n",
       "        vertical-align: middle;\n",
       "    }\n",
       "\n",
       "    .dataframe tbody tr th {\n",
       "        vertical-align: top;\n",
       "    }\n",
       "\n",
       "    .dataframe thead th {\n",
       "        text-align: right;\n",
       "    }\n",
       "</style>\n",
       "<table border=\"1\" class=\"dataframe\">\n",
       "  <thead>\n",
       "    <tr style=\"text-align: right;\">\n",
       "      <th></th>\n",
       "      <th>age</th>\n",
       "      <th>children</th>\n",
       "      <th>Claim_Amount</th>\n",
       "      <th>past_consultations</th>\n",
       "      <th>Hospital_expenditure</th>\n",
       "      <th>Anual_Salary</th>\n",
       "    </tr>\n",
       "  </thead>\n",
       "  <tbody>\n",
       "    <tr>\n",
       "      <th>333</th>\n",
       "      <td>28.0</td>\n",
       "      <td>2.0</td>\n",
       "      <td>37934.04511</td>\n",
       "      <td>17.0</td>\n",
       "      <td>1.078261e+06</td>\n",
       "      <td>5.656139e+07</td>\n",
       "    </tr>\n",
       "    <tr>\n",
       "      <th>53</th>\n",
       "      <td>18.0</td>\n",
       "      <td>0.0</td>\n",
       "      <td>10782.26326</td>\n",
       "      <td>13.0</td>\n",
       "      <td>4.038714e+06</td>\n",
       "      <td>9.753189e+07</td>\n",
       "    </tr>\n",
       "    <tr>\n",
       "      <th>597</th>\n",
       "      <td>46.0</td>\n",
       "      <td>1.0</td>\n",
       "      <td>40228.76482</td>\n",
       "      <td>10.0</td>\n",
       "      <td>4.667678e+06</td>\n",
       "      <td>9.897587e+07</td>\n",
       "    </tr>\n",
       "    <tr>\n",
       "      <th>570</th>\n",
       "      <td>42.0</td>\n",
       "      <td>2.0</td>\n",
       "      <td>17402.51145</td>\n",
       "      <td>3.0</td>\n",
       "      <td>5.112772e+06</td>\n",
       "      <td>1.266904e+08</td>\n",
       "    </tr>\n",
       "    <tr>\n",
       "      <th>754</th>\n",
       "      <td>48.0</td>\n",
       "      <td>4.0</td>\n",
       "      <td>17368.24656</td>\n",
       "      <td>14.0</td>\n",
       "      <td>4.724863e+06</td>\n",
       "      <td>1.902135e+08</td>\n",
       "    </tr>\n",
       "    <tr>\n",
       "      <th>...</th>\n",
       "      <td>...</td>\n",
       "      <td>...</td>\n",
       "      <td>...</td>\n",
       "      <td>...</td>\n",
       "      <td>...</td>\n",
       "      <td>...</td>\n",
       "    </tr>\n",
       "    <tr>\n",
       "      <th>565</th>\n",
       "      <td>48.0</td>\n",
       "      <td>0.0</td>\n",
       "      <td>20166.24703</td>\n",
       "      <td>10.0</td>\n",
       "      <td>9.807422e+06</td>\n",
       "      <td>1.543039e+08</td>\n",
       "    </tr>\n",
       "    <tr>\n",
       "      <th>113</th>\n",
       "      <td>18.0</td>\n",
       "      <td>0.0</td>\n",
       "      <td>18640.40639</td>\n",
       "      <td>12.0</td>\n",
       "      <td>4.143262e+06</td>\n",
       "      <td>1.320465e+07</td>\n",
       "    </tr>\n",
       "    <tr>\n",
       "      <th>74</th>\n",
       "      <td>23.0</td>\n",
       "      <td>0.0</td>\n",
       "      <td>34420.61859</td>\n",
       "      <td>6.0</td>\n",
       "      <td>8.787379e+05</td>\n",
       "      <td>8.880728e+07</td>\n",
       "    </tr>\n",
       "    <tr>\n",
       "      <th>716</th>\n",
       "      <td>46.0</td>\n",
       "      <td>5.0</td>\n",
       "      <td>16042.47050</td>\n",
       "      <td>14.0</td>\n",
       "      <td>7.993621e+06</td>\n",
       "      <td>1.034678e+08</td>\n",
       "    </tr>\n",
       "    <tr>\n",
       "      <th>219</th>\n",
       "      <td>29.0</td>\n",
       "      <td>0.0</td>\n",
       "      <td>45542.06654</td>\n",
       "      <td>7.0</td>\n",
       "      <td>7.430224e+06</td>\n",
       "      <td>6.038665e+07</td>\n",
       "    </tr>\n",
       "  </tbody>\n",
       "</table>\n",
       "<p>230 rows × 6 columns</p>\n",
       "</div>"
      ],
      "text/plain": [
       "      age  children  Claim_Amount  past_consultations  Hospital_expenditure  \\\n",
       "333  28.0       2.0   37934.04511                17.0          1.078261e+06   \n",
       "53   18.0       0.0   10782.26326                13.0          4.038714e+06   \n",
       "597  46.0       1.0   40228.76482                10.0          4.667678e+06   \n",
       "570  42.0       2.0   17402.51145                 3.0          5.112772e+06   \n",
       "754  48.0       4.0   17368.24656                14.0          4.724863e+06   \n",
       "..    ...       ...           ...                 ...                   ...   \n",
       "565  48.0       0.0   20166.24703                10.0          9.807422e+06   \n",
       "113  18.0       0.0   18640.40639                12.0          4.143262e+06   \n",
       "74   23.0       0.0   34420.61859                 6.0          8.787379e+05   \n",
       "716  46.0       5.0   16042.47050                14.0          7.993621e+06   \n",
       "219  29.0       0.0   45542.06654                 7.0          7.430224e+06   \n",
       "\n",
       "     Anual_Salary  \n",
       "333  5.656139e+07  \n",
       "53   9.753189e+07  \n",
       "597  9.897587e+07  \n",
       "570  1.266904e+08  \n",
       "754  1.902135e+08  \n",
       "..            ...  \n",
       "565  1.543039e+08  \n",
       "113  1.320465e+07  \n",
       "74   8.880728e+07  \n",
       "716  1.034678e+08  \n",
       "219  6.038665e+07  \n",
       "\n",
       "[230 rows x 6 columns]"
      ]
     },
     "execution_count": 70,
     "metadata": {},
     "output_type": "execute_result"
    }
   ],
   "source": [
    "x_test"
   ]
  },
  {
   "cell_type": "code",
   "execution_count": 79,
   "id": "d664cf48",
   "metadata": {},
   "outputs": [
    {
     "data": {
      "text/plain": [
       "LinearRegression()"
      ]
     },
     "execution_count": 79,
     "metadata": {},
     "output_type": "execute_result"
    }
   ],
   "source": [
    "l_model = LinearRegression()\n",
    "l_model.fit(x_train, y_train) # now we have trained the model using this line code"
   ]
  },
  {
   "cell_type": "code",
   "execution_count": 80,
   "id": "55246715",
   "metadata": {},
   "outputs": [],
   "source": [
    "predicts = l_model.predict(x_test)"
   ]
  },
  {
   "cell_type": "code",
   "execution_count": 81,
   "id": "7d05bbd4",
   "metadata": {},
   "outputs": [
    {
     "data": {
      "text/plain": [
       "array([ 3941.81132808,  3631.42698687,  7344.89955738,  7637.80930814,\n",
       "       10971.3038162 ,  3254.48590388, 12023.99064389, 10787.60932619,\n",
       "       12195.12501731,  7349.49626789, 11281.4478843 ,  7325.15908977,\n",
       "       10819.34521396, 20380.08326927,  1891.27137965,  8750.32495947,\n",
       "        7053.80415898, 12379.93767632,  9529.39182165,  7081.54426971,\n",
       "        3878.72625207, 13991.65814956,  8365.19621364, 13681.10323418,\n",
       "       14255.70971655,  5900.90200417, 13506.61086813,  6765.15758075,\n",
       "       10566.3001858 ,  1669.53667603,  3749.79850237,  3505.9939856 ,\n",
       "       10114.89465175, 13033.17763914,  2866.00833259,  5285.63199403,\n",
       "        5269.31225805,  7574.88089899, 11176.5394697 , 12531.17547951,\n",
       "        6269.74190261, 11425.59535662,  4174.8976234 ,  3428.2562927 ,\n",
       "        9102.54699633, 12348.46012228,  5774.43697413,  3870.6375082 ,\n",
       "        5844.56870828, 10803.89917699, 12379.75050234,  9497.64094711,\n",
       "        9914.57503727,  6298.18812022,  6705.04672353,  5473.74669634,\n",
       "        6420.37704974, 11573.97321736, 11389.20714226, 11272.56972921,\n",
       "        4124.74224138, 21353.06961999,  4238.44029386, 11219.03328339,\n",
       "        9352.37542374,  6053.8041132 ,  7975.76314126,  1045.39736976,\n",
       "        4217.45237506, 13744.9685256 , 11962.70040274,  1434.78987894,\n",
       "       13031.53414066,  3780.60881587,  1661.59739674, 16452.44482497,\n",
       "        2207.54339418,  3001.47620319,  5149.31500305,  8921.53795313,\n",
       "        5819.04544342,  1539.67132166,  4689.34926819,  2259.23436731,\n",
       "        8780.85460868,  4539.02250706,  3175.61372408, 16740.34496048,\n",
       "        5657.74248325,  4975.10779191,  1658.82210936, 17533.61094854,\n",
       "        5505.44688236,  8569.21628346,  2407.13068971,  9704.75706721,\n",
       "        8771.08481155,  1890.4962468 ,  4387.60238123,  8918.46308115,\n",
       "        9418.61990231, 10496.44038445,  8578.80555085, 17798.52382919,\n",
       "        7180.1109438 , 17625.25703015, 10984.70859482,  3937.15386061,\n",
       "        4423.07300476,  9089.70547771,  7757.27677122, 11065.25345912,\n",
       "       10653.54972726,  8582.20723302, 14969.83803497, 12302.09274871,\n",
       "        8432.53447648,  8585.41960144,  3756.7773667 ,  8667.23408309,\n",
       "        4227.98604111,  6455.73762523,  7548.1892947 , 22632.09386855,\n",
       "       10758.65816635,  3151.0556752 , 15493.45226214,  6611.17742654,\n",
       "        9409.89409598,  3532.1169882 , 12342.19258957, 25773.93798674,\n",
       "        8784.2796232 ,  6050.14468788,  6573.07208735,  6040.9166165 ,\n",
       "        3119.58623683, 11321.38233744, 14697.07118564,  8501.48902947,\n",
       "       13720.40009   ,  8117.67881828,  9551.9555823 , 14098.59178511,\n",
       "        8427.64206692, 23356.68532615, 11121.8188799 ,  6242.0085463 ,\n",
       "        3781.57451598,  8657.99387695, 18105.63731198,  8230.58822716,\n",
       "        6065.97193163, 27916.09717712,  4281.71404789, 20454.21990219,\n",
       "       11613.87936353,  3703.75916272,   101.96264533,  4104.07829428,\n",
       "        5848.9385823 ,  1755.08079016, 35908.9636179 , 14497.19801111,\n",
       "        5830.02389742,  4240.70360976, 13229.47585864, 12536.91462043,\n",
       "        7340.76050026, 10447.1376334 ,  7763.2957575 ,  4394.01132453,\n",
       "        3102.49858413, 10949.66899578,  7810.04173167,  3479.58686225,\n",
       "       12205.13993672,  4562.3427164 ,  8545.39744731, 11965.47763519,\n",
       "       11917.90584457,  9195.73190642,  4543.67480639,  1893.45181949,\n",
       "        7249.06634582, 14808.72174861,  5283.72905861, 11160.50896184,\n",
       "       13987.42078007,  5210.25736721, 10115.0954725 , 14889.78605117,\n",
       "       12639.4790044 ,  3957.41905174,  6862.81445422,  9014.20395521,\n",
       "        3468.65524931, 11484.80868003,  2011.82349675,  9924.98958033,\n",
       "       10955.69583946, 11985.16176632,  5059.89972676,  4121.83891637,\n",
       "       17520.24431847, 19443.36610859,  3888.59073934,  1352.51452278,\n",
       "        2458.97391745,  9323.05946325,  5643.42506016,  6243.58366605,\n",
       "        6460.39257151, 19995.45811752,  4046.79504633, 10476.77109996,\n",
       "        3059.20159337,  7786.85188835,  1610.04315991, 16861.00118438,\n",
       "        5629.50497434, 10298.72920285,  5113.27756752,  4223.55695575,\n",
       "       17259.24186857,  9580.45296968,  1148.94634833,  3495.70551318,\n",
       "        8903.37106138,  4524.19829168, 11709.5284948 , 11722.0640065 ,\n",
       "        9014.79878661,  4054.62566857, 12011.07893945, 17661.01304055,\n",
       "       13255.80209368,  2473.55009082,  7024.38045818,  1922.44568656,\n",
       "        1405.60862374, 13178.84222736, 11092.0447316 ,  5262.81603568,\n",
       "        9265.89716461, 11742.95478047,  9908.9857122 , 10417.36719816,\n",
       "        9244.98052811,  2686.50040194,  3729.86283414,  4565.02632781,\n",
       "       16409.56056963,  4546.71594763,  5361.03617663,  1257.29710303,\n",
       "        5430.55610296, 29154.77534356, 14874.70277573,  6007.96126138,\n",
       "        9629.89595125, 11702.73690764,  5009.06856347,  5477.65285466,\n",
       "       12017.63251409,  2374.23494602, 10891.29398387,  3980.71234373,\n",
       "        6205.49355004,  1808.52406497,  6496.35074153,  4557.14181366,\n",
       "        6739.36254911,  9463.75718972,  5695.72949306, 11299.96724019,\n",
       "       13323.42682554,  4887.27089035, 11592.83166512,  7618.00271062,\n",
       "        8108.01242591, 29922.92380858,  5858.6623556 ,  4187.84054488,\n",
       "        5004.36777118,  1517.25198883,  9649.0403102 ])"
      ]
     },
     "execution_count": 81,
     "metadata": {},
     "output_type": "execute_result"
    }
   ],
   "source": [
    "predicts #these are the y_test values that our model generated"
   ]
  },
  {
   "cell_type": "markdown",
   "id": "a0245835",
   "metadata": {},
   "source": [
    "#### Now, lets check the accuracy"
   ]
  },
  {
   "cell_type": "code",
   "execution_count": 82,
   "id": "ada9bf72",
   "metadata": {},
   "outputs": [],
   "source": [
    "from sklearn.metrics import* # import the lib"
   ]
  },
  {
   "cell_type": "markdown",
   "id": "544a421c",
   "metadata": {},
   "source": [
    "### Goodness of fit: R2 [ Coefficient of determination (R2) ]\n",
    "\n",
    "\n",
    "- R2 is a value between 0 and 1 that tells us how well a linear regression model fits the data. When people talk \n",
    " about correlations being strong, they often mean that the R2 value was large.\n",
    "    \n",
    "- The reality is somewhere in between. Our model could predict temperature to some degree (so it's better than R2 = 0), but points varied from this prediction somewhat (so it's less than R2=1).\n",
    "\n",
    "- R2 is only half the story.\n",
    "\n",
    "  In a linear regression model, the training algorithm fits a straight line that minimizes the mean variance between the     function and the known label values. \n",
    "\n",
    "\n",
    "- R2 values are widely accepted, but aren't a perfect measure we can use in isolation. They suffer **four limitations**:\n",
    "\n",
    "\n",
    "- - Because of how R2 is calculated, the more samples we have, the higher the R2. This can lead us to thinking that one model is better than another (identical) model, simply \n",
    "     because R2 values were calculated using different amounts of data.\n",
    " \n",
    " \n",
    "- - R2 values don't tell us how well a model will work with new, previously unseen data. Statisticians overcome this by calculating a supplementary measure, \n",
    "   called a p-value, which we won't cover here. In machine learning, we often explicitly test our model on another dataset instead.\n",
    "\n",
    "\n",
    "- - R2 values don't tell us the direction of the relationship. For example, an R2 value of 0.8 doesn't tell us whether the line is sloped \n",
    "    upwards or downwards. It also doesn’t tell us how sloped the line is.\n",
    "    \n",
    " \n",
    " \n",
    "- It's also worth keeping in mind that there’s no universal criteria for what makes an R2 value \"good enough.\" For example, in most of physics, correlations that aren't very close to 1 are unlikely \n",
    "  to be considered useful, but when modeling complex systems, R2 values as low as 0.3 might be considered to be excellent.\n",
    "  \n",
    "  \n",
    "Example - In reality, there's some natural random variance in the daily sales of ice cream that the model takes into account. \n",
    "\n",
    "The coefficient of determination is a metric that measures the proportion of variance in the validation results that can be explained by the model, as opposed to some anomalous aspect of the validation data (for example, a day with a highly unusual number of ice creams sales because of a local festival).\n",
    "\n",
    "The calculation for R2 is more complex than for the previous metrics. It compares the sum of squared differences between predicted and actual labels with the sum of squared differences between the actual label values and the mean of actual label values, like this:\n",
    "\n",
    "\n",
    "R2 = 1- ∑(y-ŷ)2 ÷ ∑(y-ȳ)2"
   ]
  },
  {
   "cell_type": "code",
   "execution_count": 1,
   "id": "ae654bc8",
   "metadata": {},
   "outputs": [],
   "source": [
    "# MAC \"mean absolute error\" and MSE \"mean square error\" tells about error\n",
    "\n",
    "# to get accuracy in regression problems we have r2_score only \n",
    "#(adjacent r2 is also there but r2_score provides accurate result rate)"
   ]
  },
  {
   "cell_type": "markdown",
   "id": "456a56f6",
   "metadata": {},
   "source": [
    "### P value\n",
    "\n",
    "\n",
    "- As a rule of thumb, if the p-value is less than 0.05, there is a good chance that this relationship if trustable. \n",
    "  For example, here both age and male are less than 0.05, so we should feel confident using this model in the real world."
   ]
  },
  {
   "cell_type": "code",
   "execution_count": 83,
   "id": "2462e54b",
   "metadata": {},
   "outputs": [
    {
     "data": {
      "text/plain": [
       "0.9140027049827901"
      ]
     },
     "execution_count": 83,
     "metadata": {},
     "output_type": "execute_result"
    }
   ],
   "source": [
    "r2score = r2_score(y_test, predicts)  #r2 score is used to find the goodness of the model or accuracy of the model\n",
    "r2score"
   ]
  },
  {
   "cell_type": "markdown",
   "id": "2b5a731b",
   "metadata": {},
   "source": [
    "##### Accuracy is considered good if above 75%. However sometimes depends on the use case we may require very high accuracy \n",
    "eg: hospital trying a new drug"
   ]
  },
  {
   "cell_type": "code",
   "execution_count": 84,
   "id": "fc45568f",
   "metadata": {},
   "outputs": [
    {
     "data": {
      "text/plain": [
       "91.40027049827901"
      ]
     },
     "execution_count": 84,
     "metadata": {},
     "output_type": "execute_result"
    }
   ],
   "source": [
    "r2score * 100"
   ]
  },
  {
   "cell_type": "markdown",
   "id": "40c5cf4a",
   "metadata": {},
   "source": [
    "- you may now deploy this on any site the user can input their values ( with respect to the columns that your model requires) \n",
    "  and get the results with 91% accuracy for this one [[ we can also directly pass the new dataset here ]]\n",
    "  \n",
    "- If we don't fix random the accuaracy changes but it will only changes) [ to store the best split accuracy we use random_state]\n",
    "  (the assign numeric value sill store our best split data i.e train and test)\n",
    "  \n",
    "- we can use streamlet/reactjs/mlops etc to deploy.\n"
   ]
  },
  {
   "cell_type": "code",
   "execution_count": 85,
   "id": "bf2ed599",
   "metadata": {},
   "outputs": [
    {
     "name": "stderr",
     "output_type": "stream",
     "text": [
      "C:\\Users\\SWATI\\Documents\\python\\lib\\site-packages\\sklearn\\base.py:450: UserWarning: X does not have valid feature names, but LinearRegression was fitted with feature names\n",
      "  warnings.warn(\n"
     ]
    },
    {
     "data": {
      "text/plain": [
       "array([2631.77090824])"
      ]
     },
     "execution_count": 85,
     "metadata": {},
     "output_type": "execute_result"
    }
   ],
   "source": [
    "# lets try giving a new input \n",
    "\n",
    "l_model.predict([[28, 3,47488, 18, 378499, 3883929]])"
   ]
  },
  {
   "cell_type": "code",
   "execution_count": null,
   "id": "def5745d",
   "metadata": {},
   "outputs": [],
   "source": []
  }
 ],
 "metadata": {
  "kernelspec": {
   "display_name": "Python 3 (ipykernel)",
   "language": "python",
   "name": "python3"
  },
  "language_info": {
   "codemirror_mode": {
    "name": "ipython",
    "version": 3
   },
   "file_extension": ".py",
   "mimetype": "text/x-python",
   "name": "python",
   "nbconvert_exporter": "python",
   "pygments_lexer": "ipython3",
   "version": "3.9.13"
  }
 },
 "nbformat": 4,
 "nbformat_minor": 5
}
